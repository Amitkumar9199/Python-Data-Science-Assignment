{
 "cells": [
  {
   "cell_type": "code",
   "execution_count": null,
   "metadata": {},
   "outputs": [],
   "source": [
    "import json"
   ]
  },
  {
   "cell_type": "code",
   "execution_count": null,
   "metadata": {},
   "outputs": [],
   "source": [
    "with open('./data/annotations.jsonl', 'r') as infile:\n",
    "    data = infile.read()\n",
    "    new_data = data.replace('}\\n{', '},{')\n",
    "    json_data = json.loads(f'[{new_data}]')"
   ]
  },
  {
   "cell_type": "code",
   "execution_count": null,
   "metadata": {},
   "outputs": [
    {
     "data": {
      "text/plain": [
       "[{'img_fn': 'imgs/0.jpg',\n",
       "  'png_ann_fn': 'pngs/0.png',\n",
       "  'img_id': '4495',\n",
       "  'bboxes': [{'bbox': [189.82, 111.18, 72.06, 67.41],\n",
       "    'category': 'tv',\n",
       "    'category_id': 72},\n",
       "   {'bbox': [4.19, 148.57, 150.17, 178.69],\n",
       "    'category': 'chair',\n",
       "    'category_id': 62},\n",
       "   {'bbox': [201.58, 198.92, 296.3, 176.08],\n",
       "    'category': 'couch',\n",
       "    'category_id': 63},\n",
       "   {'bbox': [0.0, 235.0, 500.0, 140.0],\n",
       "    'category': 'carpet',\n",
       "    'category_id': 101},\n",
       "   {'bbox': [145.0, 167.0, 153.0, 82.0],\n",
       "    'category': 'shelf',\n",
       "    'category_id': 156},\n",
       "   {'bbox': [0.0, 0.0, 255.0, 257.0],\n",
       "    'category': 'wall-concrete',\n",
       "    'category_id': 172},\n",
       "   {'bbox': [249.0, 0.0, 251.0, 341.0],\n",
       "    'category': 'wall-other',\n",
       "    'category_id': 173},\n",
       "   {'bbox': [4.0, 111.0, 494.0, 264.0],\n",
       "    'category': 'stuff-other',\n",
       "    'category_id': 183}]},\n",
       " {'img_fn': 'imgs/1.jpg',\n",
       "  'png_ann_fn': 'pngs/1.png',\n",
       "  'img_id': '7977',\n",
       "  'bboxes': [{'bbox': [104.36, 144.98, 158.4, 275.66],\n",
       "    'category': 'person',\n",
       "    'category_id': 1},\n",
       "   {'bbox': [199.57, 346.23, 68.15, 80.51],\n",
       "    'category': 'skateboard',\n",
       "    'category_id': 41},\n",
       "   {'bbox': [66.51, 210.49, 7.93, 13.59],\n",
       "    'category': 'person',\n",
       "    'category_id': 1},\n",
       "   {'bbox': [42.75, 210.38, 7.46, 14.08],\n",
       "    'category': 'person',\n",
       "    'category_id': 1},\n",
       "   {'bbox': [38.62, 213.35, 4.48, 10.47],\n",
       "    'category': 'person',\n",
       "    'category_id': 1},\n",
       "   {'bbox': [80.2, 208.0, 7.09, 16.77],\n",
       "    'category': 'person',\n",
       "    'category_id': 1},\n",
       "   {'bbox': [140.0, 203.0, 92.0, 153.0],\n",
       "    'category': 'clothes',\n",
       "    'category_id': 105},\n",
       "   {'bbox': [0.0, 0.0, 123.0, 109.0],\n",
       "    'category': 'clouds',\n",
       "    'category_id': 106},\n",
       "   {'bbox': [0.0, 405.0, 429.0, 235.0],\n",
       "    'category': 'floor-tile',\n",
       "    'category_id': 117},\n",
       "   {'bbox': [50.0, 187.0, 40.0, 32.0],\n",
       "    'category': 'grass',\n",
       "    'category_id': 124},\n",
       "   {'bbox': [0.0, 192.0, 429.0, 231.0],\n",
       "    'category': 'pavement',\n",
       "    'category_id': 140},\n",
       "   {'bbox': [20.0, 181.0, 108.0, 44.0],\n",
       "    'category': 'tent',\n",
       "    'category_id': 166},\n",
       "   {'bbox': [0.0, 0.0, 429.0, 239.0], 'category': 'tree', 'category_id': 169},\n",
       "   {'bbox': [235.0, 208.0, 194.0, 36.0],\n",
       "    'category': 'wall-concrete',\n",
       "    'category_id': 172},\n",
       "   {'bbox': [39.0, 145.0, 229.0, 282.0],\n",
       "    'category': 'stuff-other',\n",
       "    'category_id': 183}]},\n",
       " {'img_fn': 'imgs/2.jpg',\n",
       "  'png_ann_fn': 'pngs/2.png',\n",
       "  'img_id': '17182',\n",
       "  'bboxes': [{'bbox': [184.71, 233.84, 65.38, 61.11],\n",
       "    'category': 'chair',\n",
       "    'category_id': 62},\n",
       "   {'bbox': [240.5, 230.8, 58.69, 75.27],\n",
       "    'category': 'book',\n",
       "    'category_id': 84},\n",
       "   {'bbox': [275.92, 229.48, 35.1, 72.19],\n",
       "    'category': 'book',\n",
       "    'category_id': 84},\n",
       "   {'bbox': [292.8, 226.84, 29.24, 71.21],\n",
       "    'category': 'book',\n",
       "    'category_id': 84},\n",
       "   {'bbox': [305.45, 226.76, 29.01, 70.46],\n",
       "    'category': 'book',\n",
       "    'category_id': 84},\n",
       "   {'bbox': [314.81, 228.57, 31.19, 66.29],\n",
       "    'category': 'book',\n",
       "    'category_id': 84},\n",
       "   {'bbox': [318.46, 228.11, 37.84, 65.18],\n",
       "    'category': 'book',\n",
       "    'category_id': 84},\n",
       "   {'bbox': [428.1, 261.44, 27.62, 19.06],\n",
       "    'category': 'apple',\n",
       "    'category_id': 53},\n",
       "   {'bbox': [130.0, 260.0, 510.0, 168.0],\n",
       "    'category': 'desk-stuff',\n",
       "    'category_id': 110},\n",
       "   {'bbox': [546.0, 0.0, 94.0, 344.0],\n",
       "    'category': 'door-stuff',\n",
       "    'category_id': 112},\n",
       "   {'bbox': [521.0, 354.0, 119.0, 74.0],\n",
       "    'category': 'floor-wood',\n",
       "    'category_id': 118},\n",
       "   {'bbox': [0.0, 0.0, 545.0, 276.0],\n",
       "    'category': 'furniture-other',\n",
       "    'category_id': 123},\n",
       "   {'bbox': [0.0, 0.0, 563.0, 428.0],\n",
       "    'category': 'wall-concrete',\n",
       "    'category_id': 172},\n",
       "   {'bbox': [321.0, 220.0, 50.0, 20.0],\n",
       "    'category': 'wall-wood',\n",
       "    'category_id': 177},\n",
       "   {'bbox': [185.0, 227.0, 271.0, 79.0],\n",
       "    'category': 'stuff-other',\n",
       "    'category_id': 183}]},\n",
       " {'img_fn': 'imgs/3.jpg',\n",
       "  'png_ann_fn': 'pngs/3.png',\n",
       "  'img_id': '26564',\n",
       "  'bboxes': [{'bbox': [554.26, 240.03, 55.88, 113.6],\n",
       "    'category': 'bottle',\n",
       "    'category_id': 44},\n",
       "   {'bbox': [435.79, 194.33, 143.38, 106.65],\n",
       "    'category': 'laptop',\n",
       "    'category_id': 73},\n",
       "   {'bbox': [422.15, 326.25, 47.51, 39.48],\n",
       "    'category': 'mouse',\n",
       "    'category_id': 74},\n",
       "   {'bbox': [215.88, 268.17, 194.77, 58.53],\n",
       "    'category': 'keyboard',\n",
       "    'category_id': 76},\n",
       "   {'bbox': [110.42, 204.56, 17.95, 64.29],\n",
       "    'category': 'book',\n",
       "    'category_id': 84},\n",
       "   {'bbox': [64.04, 266.09, 100.7, 35.05],\n",
       "    'category': 'book',\n",
       "    'category_id': 84},\n",
       "   {'bbox': [50.55, 292.56, 123.82, 55.2],\n",
       "    'category': 'book',\n",
       "    'category_id': 84},\n",
       "   {'bbox': [253.12, 90.1, 151.44, 176.45],\n",
       "    'category': 'tv',\n",
       "    'category_id': 72},\n",
       "   {'bbox': [411.22, 279.17, 25.64, 22.73],\n",
       "    'category': 'mouse',\n",
       "    'category_id': 74},\n",
       "   {'bbox': [126.56, 194.75, 20.25, 73.62],\n",
       "    'category': 'book',\n",
       "    'category_id': 84},\n",
       "   {'bbox': [119.0, 192.1, 18.2, 76.92],\n",
       "    'category': 'book',\n",
       "    'category_id': 84},\n",
       "   {'bbox': [63.22, 200.78, 16.51, 71.94],\n",
       "    'category': 'book',\n",
       "    'category_id': 84},\n",
       "   {'bbox': [97.49, 197.83, 15.52, 74.71],\n",
       "    'category': 'book',\n",
       "    'category_id': 84},\n",
       "   {'bbox': [133.3, 188.19, 30.83, 83.81],\n",
       "    'category': 'book',\n",
       "    'category_id': 84},\n",
       "   {'bbox': [158.89, 197.47, 11.15, 74.09],\n",
       "    'category': 'book',\n",
       "    'category_id': 84},\n",
       "   {'bbox': [153.36, 175.83, 28.36, 95.03],\n",
       "    'category': 'book',\n",
       "    'category_id': 84},\n",
       "   {'bbox': [65.67, 195.68, 21.92, 76.26],\n",
       "    'category': 'book',\n",
       "    'category_id': 84},\n",
       "   {'bbox': [68.75, 192.61, 30.8, 77.27],\n",
       "    'category': 'book',\n",
       "    'category_id': 84},\n",
       "   {'bbox': [96.41, 190.63, 24.42, 79.26],\n",
       "    'category': 'book',\n",
       "    'category_id': 84},\n",
       "   {'bbox': [19.0, 220.0, 68.0, 70.0],\n",
       "    'category': 'cardboard',\n",
       "    'category_id': 100},\n",
       "   {'bbox': [7.0, 248.0, 633.0, 178.0],\n",
       "    'category': 'desk-stuff',\n",
       "    'category_id': 110},\n",
       "   {'bbox': [575.0, 0.0, 65.0, 106.0],\n",
       "    'category': 'furniture-other',\n",
       "    'category_id': 123},\n",
       "   {'bbox': [45.0, 185.0, 142.0, 124.0],\n",
       "    'category': 'paper',\n",
       "    'category_id': 139},\n",
       "   {'bbox': [346.0, 221.0, 42.0, 19.0],\n",
       "    'category': 'plastic',\n",
       "    'category_id': 143},\n",
       "   {'bbox': [11.0, 220.0, 41.0, 37.0],\n",
       "    'category': 'textile-other',\n",
       "    'category_id': 167},\n",
       "   {'bbox': [0.0, 166.0, 625.0, 139.0],\n",
       "    'category': 'wall-concrete',\n",
       "    'category_id': 172},\n",
       "   {'bbox': [288.0, 0.0, 352.0, 307.0],\n",
       "    'category': 'wall-other',\n",
       "    'category_id': 173},\n",
       "   {'bbox': [4.0, 0.0, 320.0, 41.0],\n",
       "    'category': 'window-blind',\n",
       "    'category_id': 180},\n",
       "   {'bbox': [0.0, 0.0, 326.0, 202.0],\n",
       "    'category': 'window-other',\n",
       "    'category_id': 181},\n",
       "   {'bbox': [51.0, 90.0, 559.0, 276.0],\n",
       "    'category': 'stuff-other',\n",
       "    'category_id': 183}]},\n",
       " {'img_fn': 'imgs/4.jpg',\n",
       "  'png_ann_fn': 'pngs/4.png',\n",
       "  'img_id': '43816',\n",
       "  'bboxes': [{'bbox': [93.2, 215.58, 15.01, 12.3],\n",
       "    'category': 'sports ball',\n",
       "    'category_id': 37},\n",
       "   {'bbox': [250.25, 80.34, 203.45, 264.58],\n",
       "    'category': 'person',\n",
       "    'category_id': 1},\n",
       "   {'bbox': [479.61, 193.38, 160.39, 177.1],\n",
       "    'category': 'person',\n",
       "    'category_id': 1},\n",
       "   {'bbox': [318.6, 187.91, 108.91, 32.27],\n",
       "    'category': 'baseball bat',\n",
       "    'category_id': 39},\n",
       "   {'bbox': [480.72, 227.78, 46.57, 47.11],\n",
       "    'category': 'baseball glove',\n",
       "    'category_id': 40},\n",
       "   {'bbox': [246.0, 0.0, 45.0, 34.0], 'category': 'banner', 'category_id': 92},\n",
       "   {'bbox': [623.0, 284.0, 17.0, 88.0],\n",
       "    'category': 'clothes',\n",
       "    'category_id': 105},\n",
       "   {'bbox': [92.0, 0.0, 548.0, 92.0], 'category': 'fence', 'category_id': 113},\n",
       "   {'bbox': [587.0, 294.0, 5.0, 13.0],\n",
       "    'category': 'floor-other',\n",
       "    'category_id': 115},\n",
       "   {'bbox': [0.0, 48.0, 640.0, 378.0],\n",
       "    'category': 'playingfield',\n",
       "    'category_id': 145},\n",
       "   {'bbox': [0.0, 0.0, 111.0, 56.0],\n",
       "    'category': 'textile-other',\n",
       "    'category_id': 167},\n",
       "   {'bbox': [93.0, 81.0, 547.0, 289.0],\n",
       "    'category': 'stuff-other',\n",
       "    'category_id': 183}]},\n",
       " {'img_fn': 'imgs/5.jpg',\n",
       "  'png_ann_fn': 'pngs/5.png',\n",
       "  'img_id': '46804',\n",
       "  'bboxes': [{'bbox': [223.04, 62.84, 236.4, 301.16],\n",
       "    'category': 'sheep',\n",
       "    'category_id': 20},\n",
       "   {'bbox': [0.0, 13.0, 640.0, 467.0],\n",
       "    'category': 'grass',\n",
       "    'category_id': 124},\n",
       "   {'bbox': [0.0, 0.0, 640.0, 180.0], 'category': 'rock', 'category_id': 150},\n",
       "   {'bbox': [223.0, 63.0, 236.0, 301.0],\n",
       "    'category': 'stuff-other',\n",
       "    'category_id': 183}]},\n",
       " {'img_fn': 'imgs/6.jpg',\n",
       "  'png_ann_fn': 'pngs/6.png',\n",
       "  'img_id': '51738',\n",
       "  'bboxes': [{'bbox': [106.42, 117.4, 393.58, 257.6],\n",
       "    'category': 'bed',\n",
       "    'category_id': 65},\n",
       "   {'bbox': [103.69, 162.27, 113.58, 57.3],\n",
       "    'category': 'chair',\n",
       "    'category_id': 62},\n",
       "   {'bbox': [1.59, 207.05, 52.27, 73.81],\n",
       "    'category': 'suitcase',\n",
       "    'category_id': 33},\n",
       "   {'bbox': [0.0, 224.0, 160.0, 151.0],\n",
       "    'category': 'carpet',\n",
       "    'category_id': 101},\n",
       "   {'bbox': [137.0, 53.0, 65.0, 129.0],\n",
       "    'category': 'curtain',\n",
       "    'category_id': 109},\n",
       "   {'bbox': [76.0, 193.0, 55.0, 91.0],\n",
       "    'category': 'furniture-other',\n",
       "    'category_id': 123},\n",
       "   {'bbox': [179.0, 76.0, 133.0, 127.0],\n",
       "    'category': 'light',\n",
       "    'category_id': 130},\n",
       "   {'bbox': [0.0, 0.0, 500.0, 375.0],\n",
       "    'category': 'wall-other',\n",
       "    'category_id': 173},\n",
       "   {'bbox': [0.0, 47.0, 142.0, 188.0],\n",
       "    'category': 'window-blind',\n",
       "    'category_id': 180},\n",
       "   {'bbox': [0.0, 112.0, 135.0, 117.0],\n",
       "    'category': 'window-other',\n",
       "    'category_id': 181},\n",
       "   {'bbox': [2.0, 117.0, 498.0, 258.0],\n",
       "    'category': 'stuff-other',\n",
       "    'category_id': 183}]},\n",
       " {'img_fn': 'imgs/7.jpg',\n",
       "  'png_ann_fn': 'pngs/7.png',\n",
       "  'img_id': '60363',\n",
       "  'bboxes': [{'bbox': [538.53, 217.02, 6.48, 6.3],\n",
       "    'category': 'bird',\n",
       "    'category_id': 16},\n",
       "   {'bbox': [502.74, 199.72, 5.66, 4.66],\n",
       "    'category': 'bird',\n",
       "    'category_id': 16},\n",
       "   {'bbox': [508.12, 203.38, 55.51, 27.88],\n",
       "    'category': 'bird',\n",
       "    'category_id': 16},\n",
       "   {'bbox': [444.49, 187.96, 6.84, 6.77],\n",
       "    'category': 'bird',\n",
       "    'category_id': 16},\n",
       "   {'bbox': [469.16, 182.15, 3.57, 6.42],\n",
       "    'category': 'bird',\n",
       "    'category_id': 16},\n",
       "   {'bbox': [421.6, 194.87, 7.25, 6.76],\n",
       "    'category': 'bird',\n",
       "    'category_id': 16},\n",
       "   {'bbox': [497.91, 197.27, 3.32, 4.39],\n",
       "    'category': 'bird',\n",
       "    'category_id': 16},\n",
       "   {'bbox': [433.16, 192.13, 5.95, 5.66],\n",
       "    'category': 'bird',\n",
       "    'category_id': 16},\n",
       "   {'bbox': [395.22, 204.82, 3.47, 5.2],\n",
       "    'category': 'bird',\n",
       "    'category_id': 16},\n",
       "   {'bbox': [61.03, 54.21, 141.76, 186.33],\n",
       "    'category': 'clock',\n",
       "    'category_id': 85},\n",
       "   {'bbox': [414.1, 200.95, 5.39, 3.48],\n",
       "    'category': 'bird',\n",
       "    'category_id': 16},\n",
       "   {'bbox': [603.83, 247.54, 4.79, 5.34],\n",
       "    'category': 'bird',\n",
       "    'category_id': 16},\n",
       "   {'bbox': [627.34, 258.84, 4.71, 4.53],\n",
       "    'category': 'bird',\n",
       "    'category_id': 16},\n",
       "   {'bbox': [593, 243, 46, 28], 'category': 'bird', 'category_id': 16},\n",
       "   {'bbox': [0.0, 0.0, 640.0, 480.0],\n",
       "    'category': 'building-other',\n",
       "    'category_id': 96},\n",
       "   {'bbox': [220.0, 288.0, 420.0, 192.0],\n",
       "    'category': 'metal',\n",
       "    'category_id': 132},\n",
       "   {'bbox': [55.0, 0.0, 585.0, 275.0],\n",
       "    'category': 'sky-other',\n",
       "    'category_id': 157},\n",
       "   {'bbox': [210.0, 394.0, 265.0, 86.0],\n",
       "    'category': 'window-other',\n",
       "    'category_id': 181},\n",
       "   {'bbox': [61.0, 54.0, 571.0, 209.0],\n",
       "    'category': 'stuff-other',\n",
       "    'category_id': 183}]},\n",
       " {'img_fn': 'imgs/8.jpg',\n",
       "  'png_ann_fn': 'pngs/8.png',\n",
       "  'img_id': '79034',\n",
       "  'bboxes': [{'bbox': [211.16, 103.44, 116.52, 303.2],\n",
       "    'category': 'fire hydrant',\n",
       "    'category_id': 11},\n",
       "   {'bbox': [202.45, 101.16, 25.49, 12.74],\n",
       "    'category': 'car',\n",
       "    'category_id': 3},\n",
       "   {'bbox': [161.13, 100.44, 27.98, 11.29],\n",
       "    'category': 'car',\n",
       "    'category_id': 3},\n",
       "   {'bbox': [256.37, 101.55, 13.27, 13.78],\n",
       "    'category': 'car',\n",
       "    'category_id': 3},\n",
       "   {'bbox': [151.7, 100.72, 7.35, 10.16], 'category': 'car', 'category_id': 3},\n",
       "   {'bbox': [5.76, 99.55, 18.08, 11.6], 'category': 'car', 'category_id': 3},\n",
       "   {'bbox': [0.0, 99.0, 640.0, 381.0],\n",
       "    'category': 'ground-other',\n",
       "    'category_id': 126},\n",
       "   {'bbox': [0.0, 0.0, 640.0, 197.0], 'category': 'tree', 'category_id': 169},\n",
       "   {'bbox': [6.0, 100.0, 322.0, 307.0],\n",
       "    'category': 'stuff-other',\n",
       "    'category_id': 183}]},\n",
       " {'img_fn': 'imgs/9.jpg',\n",
       "  'png_ann_fn': 'pngs/9.png',\n",
       "  'img_id': '98520',\n",
       "  'bboxes': [{'bbox': [85.21, 129.44, 530.7, 156.4],\n",
       "    'category': 'airplane',\n",
       "    'category_id': 5},\n",
       "   {'bbox': [0.13, 298.42, 26.27, 53.45],\n",
       "    'category': 'truck',\n",
       "    'category_id': 8},\n",
       "   {'bbox': [85.59, 259.73, 103.22, 25.89],\n",
       "    'category': 'truck',\n",
       "    'category_id': 8},\n",
       "   {'bbox': [0.0, 172.0, 640.0, 81.0],\n",
       "    'category': 'building-other',\n",
       "    'category_id': 96},\n",
       "   {'bbox': [0.0, 0.0, 640.0, 222.0], 'category': 'fog', 'category_id': 120},\n",
       "   {'bbox': [0.0, 237.0, 640.0, 243.0],\n",
       "    'category': 'pavement',\n",
       "    'category_id': 140},\n",
       "   {'bbox': [158.0, 248.0, 482.0, 35.0],\n",
       "    'category': 'road',\n",
       "    'category_id': 149},\n",
       "   {'bbox': [0.0, 129.0, 614.0, 223.0],\n",
       "    'category': 'stuff-other',\n",
       "    'category_id': 183}]}]"
      ]
     },
     "execution_count": 19,
     "metadata": {},
     "output_type": "execute_result"
    }
   ],
   "source": [
    "json_data"
   ]
  },
  {
   "cell_type": "code",
   "execution_count": null,
   "metadata": {},
   "outputs": [],
   "source": [
    "from my_package import model"
   ]
  },
  {
   "cell_type": "code",
   "execution_count": null,
   "metadata": {},
   "outputs": [],
   "source": [
    "seg=model.InstanceSegmentationModel()"
   ]
  },
  {
   "cell_type": "code",
   "execution_count": null,
   "metadata": {},
   "outputs": [],
   "source": [
    "import matplotlib.pyplot as plt\n"
   ]
  },
  {
   "cell_type": "code",
   "execution_count": null,
   "metadata": {},
   "outputs": [],
   "source": [
    "img=plt.imread('data/pngs/2.png')/255\n"
   ]
  },
  {
   "cell_type": "code",
   "execution_count": null,
   "metadata": {},
   "outputs": [
    {
     "data": {
      "text/plain": [
       "(428, 640)"
      ]
     },
     "execution_count": 24,
     "metadata": {},
     "output_type": "execute_result"
    }
   ],
   "source": [
    "img.shape"
   ]
  },
  {
   "cell_type": "code",
   "execution_count": null,
   "metadata": {},
   "outputs": [],
   "source": [
    "import numpy as np"
   ]
  },
  {
   "cell_type": "code",
   "execution_count": null,
   "metadata": {},
   "outputs": [],
   "source": [
    "from my_package.analysis.visualize import plot_visualization\n",
    "import matplotlib.pyplot as plt"
   ]
  },
  {
   "cell_type": "code",
   "execution_count": null,
   "metadata": {},
   "outputs": [],
   "source": [
    "\n",
    "img=plt.imread('data/imgs/2.jpg')\n",
    "img=np.rollaxis(img,2,0)/255"
   ]
  },
  {
   "cell_type": "code",
   "execution_count": 28,
   "metadata": {},
   "outputs": [],
   "source": [
    "out=seg.__call__(img)"
   ]
  },
  {
   "cell_type": "code",
   "execution_count": 29,
   "metadata": {},
   "outputs": [
    {
     "ename": "TypeError",
     "evalue": "plot_visualization() missing 2 required positional arguments: 'outputs' and 'check'",
     "output_type": "error",
     "traceback": [
      "\u001b[1;31m---------------------------------------------------------------------------\u001b[0m",
      "\u001b[1;31mTypeError\u001b[0m                                 Traceback (most recent call last)",
      "Input \u001b[1;32mIn [29]\u001b[0m, in \u001b[0;36m<module>\u001b[1;34m\u001b[0m\n\u001b[1;32m----> 1\u001b[0m \u001b[43mplot_visualization\u001b[49m\u001b[43m(\u001b[49m\u001b[43m[\u001b[49m\u001b[43mimg\u001b[49m\u001b[43m]\u001b[49m\u001b[43m,\u001b[49m\u001b[43m[\u001b[49m\u001b[43mout\u001b[49m\u001b[43m]\u001b[49m\u001b[43m)\u001b[49m\n",
      "\u001b[1;31mTypeError\u001b[0m: plot_visualization() missing 2 required positional arguments: 'outputs' and 'check'"
     ]
    }
   ],
   "source": [
    "plot_visualization([img],[out])"
   ]
  },
  {
   "cell_type": "code",
   "execution_count": null,
   "metadata": {},
   "outputs": [],
   "source": [
    "from my_package.data.transforms import flip"
   ]
  },
  {
   "cell_type": "code",
   "execution_count": null,
   "metadata": {},
   "outputs": [],
   "source": [
    "f = flip.FlipImage('vertical')"
   ]
  },
  {
   "cell_type": "code",
   "execution_count": null,
   "metadata": {},
   "outputs": [],
   "source": [
    "from my_package import model"
   ]
  },
  {
   "cell_type": "code",
   "execution_count": null,
   "metadata": {},
   "outputs": [],
   "source": [
    "seg=model.InstanceSegmentationModel()"
   ]
  },
  {
   "cell_type": "code",
   "execution_count": null,
   "metadata": {},
   "outputs": [],
   "source": [
    "import numpy as np\n",
    "f=np.array(f)"
   ]
  },
  {
   "cell_type": "code",
   "execution_count": null,
   "metadata": {},
   "outputs": [],
   "source": [
    "import matplotlib.pyplot as plt"
   ]
  },
  {
   "cell_type": "code",
   "execution_count": null,
   "metadata": {},
   "outputs": [],
   "source": [
    "img =plt.imread('data/imgs/3.jpg')"
   ]
  },
  {
   "cell_type": "code",
   "execution_count": null,
   "metadata": {},
   "outputs": [
    {
     "data": {
      "text/plain": [
       "(426, 640, 3)"
      ]
     },
     "execution_count": 15,
     "metadata": {},
     "output_type": "execute_result"
    }
   ],
   "source": [
    "img.shape"
   ]
  },
  {
   "cell_type": "code",
   "execution_count": null,
   "metadata": {},
   "outputs": [],
   "source": [
    "img=np.array(img)"
   ]
  },
  {
   "cell_type": "code",
   "execution_count": null,
   "metadata": {},
   "outputs": [],
   "source": [
    "img=np.rollaxis(img,2,0)"
   ]
  },
  {
   "cell_type": "code",
   "execution_count": null,
   "metadata": {},
   "outputs": [
    {
     "data": {
      "text/plain": [
       "(3, 426, 640)"
      ]
     },
     "execution_count": 18,
     "metadata": {},
     "output_type": "execute_result"
    }
   ],
   "source": [
    "img.shape"
   ]
  },
  {
   "cell_type": "code",
   "execution_count": null,
   "metadata": {},
   "outputs": [
    {
     "name": "stderr",
     "output_type": "stream",
     "text": [
      "C:\\Users\\lenovo\\AppData\\Local\\Programs\\Python\\Python38\\lib\\site-packages\\torch\\functional.py:445: UserWarning: torch.meshgrid: in an upcoming release, it will be required to pass the indexing argument. (Triggered internally at  ..\\aten\\src\\ATen\\native\\TensorShape.cpp:2157.)\n",
      "  return _VF.meshgrid(tensors, **kwargs)  # type: ignore[attr-defined]\n"
     ]
    },
    {
     "data": {
      "text/plain": [
       "([[(0.0, 0.0), (640.0, 426.00003)]],\n",
       " [array([[[2.5119790e-01, 2.7386239e-01, 2.9652688e-01, ...,\n",
       "           3.1913927e-01, 2.9647905e-01, 2.7381781e-01],\n",
       "          [2.8306231e-01, 3.0860177e-01, 3.3414125e-01, ...,\n",
       "           3.5962203e-01, 3.3408734e-01, 3.0855152e-01],\n",
       "          [3.1492677e-01, 3.4334123e-01, 3.7175569e-01, ...,\n",
       "           4.0010485e-01, 3.7169570e-01, 3.4328532e-01],\n",
       "          ...,\n",
       "          [3.4678751e-01, 3.7807661e-01, 4.0936574e-01, ...,\n",
       "           1.6427544e-04, 1.5261119e-04, 1.4094642e-04],\n",
       "          [3.1492352e-01, 3.4333768e-01, 3.7175187e-01, ...,\n",
       "           1.4918127e-04, 1.3858876e-04, 1.2799579e-04],\n",
       "          [2.8305954e-01, 3.0859876e-01, 3.3413798e-01, ...,\n",
       "           1.3408709e-04, 1.2456634e-04, 1.1504518e-04]]], dtype=float32)],\n",
       " ['dining table'],\n",
       " [1.0])"
      ]
     },
     "execution_count": 19,
     "metadata": {},
     "output_type": "execute_result"
    }
   ],
   "source": [
    "seg.__call__(img)"
   ]
  },
  {
   "cell_type": "code",
   "execution_count": null,
   "metadata": {},
   "outputs": [],
   "source": [
    "f = flip.FlipImage('vertical')"
   ]
  },
  {
   "cell_type": "code",
   "execution_count": null,
   "metadata": {},
   "outputs": [],
   "source": [
    "\n",
    "from PIL import Image"
   ]
  },
  {
   "cell_type": "code",
   "execution_count": null,
   "metadata": {},
   "outputs": [],
   "source": [
    "import matplotlib.pyplot as plt"
   ]
  },
  {
   "cell_type": "code",
   "execution_count": null,
   "metadata": {},
   "outputs": [],
   "source": [
    "img=plt.imread('data/imgs/1.jpg')"
   ]
  },
  {
   "cell_type": "code",
   "execution_count": 31,
   "metadata": {},
   "outputs": [
    {
     "data": {
      "text/plain": [
       "(3, 428, 640)"
      ]
     },
     "execution_count": 31,
     "metadata": {},
     "output_type": "execute_result"
    }
   ],
   "source": [
    "img.shape"
   ]
  },
  {
   "cell_type": "code",
   "execution_count": null,
   "metadata": {},
   "outputs": [],
   "source": []
  }
 ],
 "metadata": {
  "interpreter": {
   "hash": "6e84119495b7d9a64a4f03e2280e17a50fbac6037e41078f759a4500362c7961"
  },
  "kernelspec": {
   "display_name": "Python 3.9.10 64-bit (windows store)",
   "language": "python",
   "name": "python3"
  },
  "language_info": {
   "codemirror_mode": {
    "name": "ipython",
    "version": 3
   },
   "file_extension": ".py",
   "mimetype": "text/x-python",
   "name": "python",
   "nbconvert_exporter": "python",
   "pygments_lexer": "ipython3",
   "version": "3.8.8"
  },
  "orig_nbformat": 4
 },
 "nbformat": 4,
 "nbformat_minor": 2
}
